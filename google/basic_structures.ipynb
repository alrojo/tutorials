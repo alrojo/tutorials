{
 "cells": [
  {
   "cell_type": "code",
   "execution_count": 111,
   "metadata": {
    "collapsed": false
   },
   "outputs": [
    {
     "data": {
      "text/plain": [
       "[2, 3, 3, 3, 4, 4, 5, 6, 7, 8, 10, 12, 23, 43, 102]"
      ]
     },
     "execution_count": 111,
     "metadata": {},
     "output_type": "execute_result"
    }
   ],
   "source": [
    "## QUICKSORT (not optimized, could do inplace and randomized pivot)\n",
    "def qsort(arr):\n",
    "    if len(arr) <= 1:\n",
    "        return arr\n",
    "    else:\n",
    "        return qsort([x for x in arr[1:] if x<arr[0]]) + [arr[0]] + qsort([x for x in arr[1:] if x>=arr[0]])\n",
    "qsort([3,10,5,4,3,6,7,8,102,23,12,43,2,3,4])"
   ]
  },
  {
   "cell_type": "code",
   "execution_count": null,
   "metadata": {
    "collapsed": true
   },
   "outputs": [],
   "source": []
  },
  {
   "cell_type": "code",
   "execution_count": 112,
   "metadata": {
    "collapsed": false
   },
   "outputs": [
    {
     "data": {
      "text/plain": [
       "[2, 3, 3, 3, 4, 4, 5, 6, 7, 8, 10, 12, 23, 43, 102]"
      ]
     },
     "execution_count": 112,
     "metadata": {},
     "output_type": "execute_result"
    }
   ],
   "source": [
    "## MERGESORT\n",
    "def msort(arr):\n",
    "    if len(arr) <= 1:\n",
    "        return arr\n",
    "    else:\n",
    "        return merge(msort(arr[:(len(arr)/2)]), msort(arr[(len(arr)/2):]))\n",
    "\n",
    "def merge(left, right):\n",
    "    result = []\n",
    "    i = j = 0\n",
    "    while i<len(left) and j<len(right):\n",
    "        if left[i] < right[j]:\n",
    "            result.append(left[i])\n",
    "            i += 1\n",
    "        else:\n",
    "            result.append(right[j])\n",
    "            j += 1\n",
    "    result += left[i:]\n",
    "    result += right[j:]\n",
    "    return result\n",
    "msort([3,10,5,4,3,6,7,8,102,23,12,43,2,3,4])"
   ]
  },
  {
   "cell_type": "code",
   "execution_count": 135,
   "metadata": {
    "collapsed": false
   },
   "outputs": [
    {
     "name": "stdout",
     "output_type": "stream",
     "text": [
      "---PRINT---\n",
      "[['0', '0'], ['6', '6']]\n",
      "[['1', '1']]\n",
      "[['2', '2']]\n",
      "[['3', '3']]\n",
      "[['4', '4']]\n",
      "[['5', '5']]\n"
     ]
    }
   ],
   "source": [
    "## HASHING\n",
    "class HashMap:\n",
    "    def __init__(self, size=6):\n",
    "        self.size = size\n",
    "        self.map = [None] * self.size\n",
    "\n",
    "    def _get_hash(self, key):\n",
    "        hash = 0\n",
    "        for char in str(key):\n",
    "            hash += ord(char)\n",
    "        return hash % self.size\n",
    "\n",
    "    def add(self, key, value):\n",
    "        key_hash = self._get_hash(key)\n",
    "        key_value = [key, value]\n",
    "        if self.map[key_hash] is None:\n",
    "            self.map[key_hash] = [key_value]\n",
    "            return True\n",
    "        else:\n",
    "            for pair in self.map[key_hash]:\n",
    "                if pair[0] == key:\n",
    "                    pair[1] == value\n",
    "                    return True\n",
    "            self.map[key_hash].append(key_value)\n",
    "            return True\n",
    "\n",
    "    def get(self, key):\n",
    "        key_hash = self._get_hash(key)\n",
    "        if self.map[key_hash] is not None:\n",
    "            for pair in self.map[key_hash]:\n",
    "                if pair[0] == key:\n",
    "                    return pair[1]\n",
    "        return None\n",
    "    \n",
    "    def delete(self, key):\n",
    "        key_hash = self._get_hash(key)\n",
    "        if self.map[key_hash] is not None:\n",
    "            self.map[key_hash] = [pair for pair in self.map[key_hash] if pair[0] != key]\n",
    "    \n",
    "    def print_self(self):\n",
    "        print('---PRINT---')\n",
    "        for item in self.map:\n",
    "            if item is not None:\n",
    "                print(str(item))\n",
    "h = HashMap()\n",
    "h.add(\"0\", \"0\")\n",
    "h.add(\"1\", \"1\")\n",
    "h.add(\"2\", \"2\")\n",
    "h.add(\"3\", \"3\")\n",
    "h.add(\"4\", \"4\")\n",
    "h.add(\"5\", \"5\")\n",
    "h.add(\"6\", \"6\")\n",
    "h.print_self()\n",
    "\n",
    "#d = {}\n",
    "#d.update({\"val\":1})\n",
    "#d.update({\"val\":1})\n",
    "#d.update({\"val1\":1})\n",
    "\n",
    "#for k, v in d.items():\n",
    "#    print(\"%s: %d\" %(k, v))"
   ]
  },
  {
   "cell_type": "code",
   "execution_count": 128,
   "metadata": {
    "collapsed": false
   },
   "outputs": [
    {
     "data": {
      "text/plain": [
       "[1, 2]"
      ]
     },
     "execution_count": 128,
     "metadata": {},
     "output_type": "execute_result"
    }
   ],
   "source": [
    "a = [1, 2]\n",
    "a = list(a)\n",
    "a"
   ]
  },
  {
   "cell_type": "code",
   "execution_count": 61,
   "metadata": {
    "collapsed": false
   },
   "outputs": [
    {
     "name": "stdout",
     "output_type": "stream",
     "text": [
      "1\n",
      "6\n"
     ]
    }
   ],
   "source": [
    "## QUEUES AND STACKS\n",
    "from collections import deque\n",
    "q = deque([1,2,3,4,5])\n",
    "q.append(6)\n",
    "print q.popleft()\n",
    "print q.pop()"
   ]
  },
  {
   "cell_type": "code",
   "execution_count": 122,
   "metadata": {
    "collapsed": false
   },
   "outputs": [
    {
     "name": "stdout",
     "output_type": "stream",
     "text": [
      "1\n",
      "False\n",
      "False\n",
      "Node: 3\n",
      "Node: 2\n",
      "Node: 1\n",
      "True\n",
      "Node: 3\n",
      "Node: 2\n",
      "Node: 1\n"
     ]
    }
   ],
   "source": [
    "## LINKED LIST\n",
    "class Node():\n",
    "    def __init__(self, d = None, n=None, p=None):\n",
    "        self.data = d\n",
    "        self.next_node = n\n",
    "        self.prev_node = p\n",
    "\n",
    "class LinkedList():\n",
    "    def __init__ (self, r=None, s=0):\n",
    "        self.root = r\n",
    "        self.size = s\n",
    "    def add (self, d = None):\n",
    "        new_node = Node(d, self.root)\n",
    "        if self.root:\n",
    "            self.root.prev_node = new_node\n",
    "        self.root = new_node\n",
    "        self.size += 1\n",
    "    def remove (self, d):\n",
    "        this_node = self.root\n",
    "        while this_node:\n",
    "            if this_node.data == d:\n",
    "                next_node = this_node.next_node\n",
    "                prev_node = this_node.prev_node\n",
    "                if next_node:\n",
    "                    next_node.prev_node = prev_node\n",
    "                if prev_node:\n",
    "                    prev_node.next_node = next_node\n",
    "                else:\n",
    "                    self.root = next_node\n",
    "                self.size -= 1\n",
    "                return True\n",
    "            else:\n",
    "                prev_node = this_node\n",
    "                this_node = this_node.next_node\n",
    "            return False\n",
    "    def find (self, d):\n",
    "        this_node = self.root\n",
    "        while this_node:\n",
    "            if this_node.data == d:\n",
    "                return d\n",
    "            else:\n",
    "                this_node = this_node.next_node\n",
    "        return False        \n",
    "    def list_print(self):\n",
    "        node = self.root\n",
    "        i=0\n",
    "        while node is not None and i!=100:\n",
    "            i+=1\n",
    "            print(\"Node: %s\" % str(node.data))\n",
    "            node = node.next_node\n",
    "l = LinkedList()\n",
    "l.add(1)\n",
    "l.add(2)\n",
    "l.add(3)\n",
    "print(l.find(1))\n",
    "print(l.find(4))\n",
    "print(l.remove(4))\n",
    "l.list_print()\n",
    "print(l.remove(3))\n",
    "l.list_print()"
   ]
  },
  {
   "cell_type": "code",
   "execution_count": 110,
   "metadata": {
    "collapsed": false
   },
   "outputs": [
    {
     "name": "stdout",
     "output_type": "stream",
     "text": [
      "[0, 3, 6, 9]\n",
      "3\n",
      "[0, 3, 6, 9]\n",
      "3\n",
      "[0, 6, 9]\n"
     ]
    }
   ],
   "source": [
    "## MAXHEAP\n",
    "class MaxHeap():\n",
    "    def __init__(self, items=[]):\n",
    "#        super().__init__()\n",
    "        self.heap = [0]\n",
    "        for i in items:\n",
    "            self.heap.append(i)\n",
    "            self.__floatUp(len(self.heap) - 1)\n",
    "\n",
    "    def push(self, data):\n",
    "        self.heap.append(data)\n",
    "        self.__floatUp(len(self.heap) - 1)\n",
    "\n",
    "    def peek(self):\n",
    "        if self.heap[1]:\n",
    "            return self.heap[1]\n",
    "        else:\n",
    "            return False\n",
    "\n",
    "    def pop(self):\n",
    "        if len(self.heap) > 2:\n",
    "            self.__swap(1, len(self.heap) - 1)\n",
    "            max_val = self.heap.pop()\n",
    "            self.__bubbleDown(1)\n",
    "        elif len(self.heap) == 2:\n",
    "            max_val = self.heap.pop()\n",
    "        else:\n",
    "            max_val = False\n",
    "        return max_val\n",
    "\n",
    "    def __swap(self, i, j):\n",
    "        self.heap[i], self.heap[j] = self.heap[j], self.heap[i]\n",
    "\n",
    "    def __floatUp(self, index):\n",
    "        parent = index // 2\n",
    "        if index <= 1:\n",
    "            return\n",
    "        elif self.heap[index] > self.heap[parent]:\n",
    "            self.__swap(index, parent)\n",
    "            self.__floatUp(parent)\n",
    "\n",
    "    def __bubbleDown(self, index): #MaxHeapify\n",
    "        left = index * 2\n",
    "        right = left + 1\n",
    "        largest = index\n",
    "        if len(self.heap) > left and self.heap[largest] < self.heap[left]:\n",
    "            largest = left\n",
    "        if len(self.heap) > right and self.heap[largest] < self.heap[right]:\n",
    "            largest = right\n",
    "        if largest != index:\n",
    "            self.__swap(index, largest)\n",
    "            self.__bubbleDown(largest)\n",
    "\n",
    "m = MaxHeap([6, 3, 9])\n",
    "print(str(m.heap[0:len(m.heap)]))\n",
    "print(m.peek())\n",
    "print(str(m.heap[0:len(m.heap)]))\n",
    "print(m.pop())\n",
    "print(str(m.heap[0:len(m.heap)]))\n",
    "#for _ in m.heap: print m.pop()\n",
    "#print(str)"
   ]
  },
  {
   "cell_type": "code",
   "execution_count": null,
   "metadata": {
    "collapsed": true
   },
   "outputs": [],
   "source": []
  }
 ],
 "metadata": {
  "kernelspec": {
   "display_name": "Python 2",
   "language": "python",
   "name": "python2"
  },
  "language_info": {
   "codemirror_mode": {
    "name": "ipython",
    "version": 2
   },
   "file_extension": ".py",
   "mimetype": "text/x-python",
   "name": "python",
   "nbconvert_exporter": "python",
   "pygments_lexer": "ipython2",
   "version": "2.7.6"
  }
 },
 "nbformat": 4,
 "nbformat_minor": 0
}
