{
 "cells": [
  {
   "cell_type": "code",
   "execution_count": 34,
   "metadata": {
    "collapsed": false
   },
   "outputs": [
    {
     "name": "stdout",
     "output_type": "stream",
     "text": [
      "[0, -1, -2, -3, -4, -5, -6, -7, -8, -9]\n",
      "[-9, -8, -6, -7, -4, -5, -2, 0, -3, -1]\n",
      "[-10, -9, -6, -7, -8, -5, -2, 0, -3, -1, -4]\n",
      "-10\n",
      "[-9, -8, -6, -7, -4, -5, -2, 0, -3, -1]\n"
     ]
    }
   ],
   "source": [
    "import heapq\n",
    "heap = []\n",
    "for i in range(10):\n",
    "    heap.append(-i)\n",
    "print heap\n",
    "heapq.heapify(heap)\n",
    "print heap\n",
    "heapq.heappush(heap, -10)\n",
    "print heap\n",
    "print heapq.heappop(heap)\n",
    "print heap"
   ]
  },
  {
   "cell_type": "code",
   "execution_count": null,
   "metadata": {
    "collapsed": true
   },
   "outputs": [],
   "source": []
  }
 ],
 "metadata": {
  "kernelspec": {
   "display_name": "Python 2",
   "language": "python",
   "name": "python2"
  },
  "language_info": {
   "codemirror_mode": {
    "name": "ipython",
    "version": 2
   },
   "file_extension": ".py",
   "mimetype": "text/x-python",
   "name": "python",
   "nbconvert_exporter": "python",
   "pygments_lexer": "ipython2",
   "version": "2.7.6"
  }
 },
 "nbformat": 4,
 "nbformat_minor": 0
}
