{
 "cells": [
  {
   "cell_type": "code",
   "execution_count": 28,
   "metadata": {
    "collapsed": false
   },
   "outputs": [
    {
     "name": "stdout",
     "output_type": "stream",
     "text": [
      "( 0 , 5 , 2)\n",
      "( 0 , 1 , 5)\n",
      "( 1 , 2 , 5)\n",
      "( 2 , 3 , 2)\n"
     ]
    }
   ],
   "source": [
    "## ADJACENCY LIST USING VERTICES\n",
    "class Vertex:\n",
    "    def __init__(self, key):\n",
    "        self.id = key\n",
    "        self.connected_to = {}\n",
    "\n",
    "    def add_neighbor(self, nbr, weight=0):\n",
    "        self.connected_to[nbr] = weight\n",
    "\n",
    "    def __str__(self):\n",
    "        return str(self.id) + ' connected_to: ' + str([x.id for x in self.connected_to])\n",
    "\n",
    "    def get_connections(self):\n",
    "        return self.connected_to.keys()\n",
    "\n",
    "\n",
    "    def get_id(self):\n",
    "        return self.id\n",
    "\n",
    "    def get_weight(self, nbr):\n",
    "        return self.connected_to[nbr]\n",
    "\n",
    "class Graph:\n",
    "    def __init__(self):\n",
    "        self.vertex_list = {}\n",
    "        self.num_vertices = 0\n",
    "\n",
    "    def add_vertex(self, key):\n",
    "        self.num_vertices += 1\n",
    "        new_vertex = Vertex(key)\n",
    "        self.vertex_list.update({key:new_vertex})\n",
    "        return new_vertex\n",
    "\n",
    "    def get_vertex(self, key):\n",
    "        if key in self.vertex_list:\n",
    "            return self.vertex_list[key]\n",
    "        else:\n",
    "            return None\n",
    "\n",
    "    def __contains__(self, key):\n",
    "        return key in self.vertex_list\n",
    "\n",
    "    def add_edge(self, f_key, t_key, weight=0):\n",
    "        if f_key not in self.vertex_list:\n",
    "            _ = self.add_vertex(f_key)\n",
    "        if t_key not in self.vertex_list:\n",
    "            _ = self.add_vertex(t_key)\n",
    "        self.vertex_list[f_key].add_neighbor(self.vertex_list[t_key], weight)\n",
    "\n",
    "    def get_vertices(self):\n",
    "        return self.vertex_list.keys()\n",
    "\n",
    "    def __iter__(self):\n",
    "        return iter(self.vertex_list.values())\n",
    "\n",
    "g = Graph()\n",
    "for i in range(6):\n",
    "    g.add_vertex(i)\n",
    "#print(g.vertex_list)\n",
    "g = Graph()\n",
    "g.add_edge(0, 1, 5)\n",
    "g.add_edge(0, 5, 2)\n",
    "g.add_edge(2, 3, 2)\n",
    "g.add_edge(1, 2, 5)\n",
    "g.add_edge\n",
    "for v in g:\n",
    "    for w in v.get_connections():\n",
    "        print(\"( %s , %s , %d)\" % (v.get_id(), w.get_id(), v.get_weight(w)))"
   ]
  },
  {
   "cell_type": "code",
   "execution_count": 6,
   "metadata": {
    "collapsed": false,
    "scrolled": true
   },
   "outputs": [
    {
     "data": {
      "text/plain": [
       "{'0': [{'1': '15'}, {'3': '7'}, {'4': '10'}],\n",
       " '1': [{'2': '9'}, {'3': '11'}, {'5': '9'}],\n",
       " '2': [{'4': '12'}, {'5': '7'}],\n",
       " '3': [{'4': '8'}, {'5': '14'}],\n",
       " '4': [{'5': '8'}]}"
      ]
     },
     "execution_count": 6,
     "metadata": {},
     "output_type": "execute_result"
    }
   ],
   "source": [
    "## ADJACENCY LIST USING DICTIONARY\n",
    "adjlist = {0:[{},{}],1:[{},{}],2:[{},{}]}\n",
    "adjlist = {\n",
    "    '0': [{'1':'15'}, {'3':'7'}, {'4':'10'}],\n",
    "    '1': [{'2':'9'}, {'3':'11'}, {'5':'9'}],\n",
    "    '2': [{'4':'12'}, {'5':'7'}],\n",
    "    '3': [{'4':'8'}, {'5':'14'}],\n",
    "    '4': [{'5':'8'}]}\n",
    "adjlist"
   ]
  },
  {
   "cell_type": "code",
   "execution_count": 32,
   "metadata": {
    "collapsed": false
   },
   "outputs": [
    {
     "data": {
      "text/plain": [
       "array([[ 0, 15, 11,  9,  0],\n",
       "       [15,  0,  7,  0, 10],\n",
       "       [11,  7,  0,  0,  8],\n",
       "       [ 9,  0,  0,  0, 12],\n",
       "       [ 0, 10,  8, 12,  0]])"
      ]
     },
     "execution_count": 32,
     "metadata": {},
     "output_type": "execute_result"
    }
   ],
   "source": [
    "## ADJACENCY MATRIX GIVEN A ADJ. LIST\n",
    "import numpy as np\n",
    "\n",
    "def weigthed_adjmatrix(adjlist, nodes):\n",
    "    '''returns a (weighted) adjacency matrix as a NumPy array.'''\n",
    "    matrix = []\n",
    "    for node in nodes:\n",
    "        weights = {endnode:int(weight) # Dict for each node\n",
    "                     for w in adjlist.get(node, {})\n",
    "                     for endnode, weight in w.items()}\n",
    "        matrix.append([weights.get(endnode, 0) for endnode in nodes]) # to list, then append\n",
    "    matrix = np.array(matrix) # np.array it (concat?)\n",
    "    return matrix + matrix.transpose() # undirected\n",
    "weigthed_adjmatrix(adjlist, adjlist.keys())"
   ]
  },
  {
   "cell_type": "code",
   "execution_count": 18,
   "metadata": {
    "collapsed": false
   },
   "outputs": [
    {
     "data": {
      "text/plain": [
       "[{'2': '9'}, {'3': '11'}, {'5': '9'}]"
      ]
     },
     "execution_count": 18,
     "metadata": {},
     "output_type": "execute_result"
    }
   ],
   "source": [
    "adjlist.get('1', {})"
   ]
  },
  {
   "cell_type": "code",
   "execution_count": null,
   "metadata": {
    "collapsed": true
   },
   "outputs": [],
   "source": []
  }
 ],
 "metadata": {
  "kernelspec": {
   "display_name": "Python 2",
   "language": "python",
   "name": "python2"
  },
  "language_info": {
   "codemirror_mode": {
    "name": "ipython",
    "version": 2
   },
   "file_extension": ".py",
   "mimetype": "text/x-python",
   "name": "python",
   "nbconvert_exporter": "python",
   "pygments_lexer": "ipython2",
   "version": "2.7.6"
  }
 },
 "nbformat": 4,
 "nbformat_minor": 0
}
